{
 "cells": [
  {
   "cell_type": "markdown",
   "metadata": {},
   "source": [
    "#Transformación y limpieza de datos\n",
    "En este notebook vamos a estar descompirmiendo y transformando los 3 archivos json comprimidos en 3 archivos csv y limpiando los datos."
   ]
  },
  {
   "cell_type": "markdown",
   "metadata": {},
   "source": [
    "###Transformación de Json comprimido a Data Frame de pandas"
   ]
  },
  {
   "cell_type": "code",
   "execution_count": 3,
   "metadata": {},
   "outputs": [],
   "source": [
    "###Buscamos y asignamos las rutas de los archivos json \n",
    "steam_games_path = \"/Users/luisf/Documents/Proyecto_Individual_1_Henry/Proyecto_Individual_MLOPS_LFTR/Datasets/CSV_DF/steam_games.csv\"\n",
    "user_reviews_path = \"/Users/luisf/Documents/Proyecto_Individual_1_Henry/Proyecto_Individual_MLOPS_LFTR/Datasets/CSV_DF/user_review.csv\"\n",
    "users_items_path = \"/Users/luisf/Documents/Proyecto_Individual_1_Henry/Proyecto_Individual_MLOPS_LFTR/Datasets/CSV_DF/user_items.csv\""
   ]
  },
  {
   "cell_type": "code",
   "execution_count": 4,
   "metadata": {},
   "outputs": [],
   "source": [
    "import pandas as pd"
   ]
  },
  {
   "cell_type": "code",
   "execution_count": null,
   "metadata": {},
   "outputs": [],
   "source": []
  }
 ],
 "metadata": {
  "kernelspec": {
   "display_name": "base",
   "language": "python",
   "name": "python3"
  },
  "language_info": {
   "codemirror_mode": {
    "name": "ipython",
    "version": 3
   },
   "file_extension": ".py",
   "mimetype": "text/x-python",
   "name": "python",
   "nbconvert_exporter": "python",
   "pygments_lexer": "ipython3",
   "version": "3.8.8"
  }
 },
 "nbformat": 4,
 "nbformat_minor": 2
}
